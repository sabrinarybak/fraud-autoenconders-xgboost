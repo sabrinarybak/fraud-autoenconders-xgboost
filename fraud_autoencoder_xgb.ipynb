{
 "cells": [
  {
   "cell_type": "markdown",
   "id": "eeb2227b",
   "metadata": {},
   "source": [
    "\n",
    "# Anomaly Detection with Autoencoders (and XGBoost baseline + hybrid)\n",
    "**Goals:** Build Autoencoder for anomaly detection, compare to XGBoost, and try a hybrid approach.\n"
   ]
  },
  {
   "cell_type": "markdown",
   "id": "32886d6c",
   "metadata": {},
   "source": [
    "\n",
    "## Dataset\n",
    "Credit Card Fraud Detection (2013). Columns: V1..V28 (PCA components), Amount, and Class (0 normal / 1 fraud).  \n",
    "**Imbalance:** ~0.17% fraud.\n"
   ]
  },
  {
   "cell_type": "code",
   "execution_count": 10,
   "id": "781b401e",
   "metadata": {},
   "outputs": [],
   "source": [
    "\n",
    "from __future__ import annotations\n",
    "import os, numpy as np, pandas as pd\n",
    "from sklearn.model_selection import train_test_split\n",
    "from sklearn.preprocessing import StandardScaler\n",
    "from sklearn.metrics import roc_auc_score, average_precision_score, precision_recall_fscore_support, confusion_matrix, roc_curve, precision_recall_curve\n",
    "import matplotlib.pyplot as plt\n",
    "import tensorflow as tf\n",
    "from tensorflow import keras\n",
    "from tensorflow.keras import layers\n",
    "import xgboost as xgb\n",
    "\n",
    "RANDOM_STATE = 42\n",
    "np.random.seed(RANDOM_STATE)"
   ]
  },
  {
   "cell_type": "code",
   "execution_count": 11,
   "id": "9ff96b46",
   "metadata": {},
   "outputs": [
    {
     "name": "stdout",
     "output_type": "stream",
     "text": [
      "(284807, 29) 0.001727485630620034\n"
     ]
    }
   ],
   "source": [
    "\n",
    "CSV_PATH = 'creditcard.csv'\n",
    "assert os.path.exists(CSV_PATH), \"Place 'creditcard.csv' next to this notebook.\"\n",
    "df = pd.read_csv(CSV_PATH)\n",
    "y = df['Class'].astype(int); X = df.drop(columns=['Class'])\n",
    "if 'Time' in X.columns: X = X.drop(columns=['Time'])\n",
    "print(X.shape, y.mean())\n"
   ]
  },
  {
   "cell_type": "markdown",
   "id": "fb2e69cd",
   "metadata": {},
   "source": [
    "### 📊 Datasetöversikt\n",
    "\n",
    "- Antal transaktioner: **284 807**\n",
    "- Antal features (kolumner): **29**\n",
    "- Andel bedrägerier (klass = 1): **~0.17 %**\n",
    "\n",
    "👉 Detta innebär att datasetet är **extremt obalanserat** – endast cirka 1 av 600 transaktioner är ett faktiskt bedrägeri.  \n",
    "Det gör problemet extra utmanande, eftersom en modell som alltid förutspår \"ingen fraud\" skulle få **99.8 % accuracy**, men samtidigt missa alla riktiga bedrägerier.  \n",
    "\n",
    "Därför fokuserar vi i stället på **utvärderingsmått som bättre fångar minoritetsklassen**, såsom:  \n",
    "- **ROC-AUC** – modellens förmåga att skilja mellan fraud och icke-fraud över olika trösklar.  \n",
    "- **PR-AUC** – mer informativt vid kraftigt obalanserade data.  \n",
    "- **Precision & Recall** – visar hur många av de flaggade bedrägerierna som faktiskt är riktiga, och hur många riktiga bedrägerier som hittas.  \n",
    "- **F1-score** – balansen mellan precision och recall.  \n",
    "\n",
    "💡 Med andra ord: **målet är inte hög accuracy, utan att hitta bedrägerier utan att skapa för många falsklarm.**"
   ]
  },
  {
   "cell_type": "code",
   "execution_count": 12,
   "id": "65247ccf",
   "metadata": {},
   "outputs": [],
   "source": [
    "\n",
    "X_train_val, X_test, y_train_val, y_test = train_test_split(X, y, test_size=0.2, stratify=y, random_state=RANDOM_STATE)\n",
    "X_train, X_val, y_train, y_val = train_test_split(X_train_val, y_train_val, test_size=0.2, stratify=y_train_val, random_state=RANDOM_STATE)\n",
    "\n",
    "scaler = StandardScaler(); scaler.fit(X_train[y_train==0])\n",
    "X_train_s = scaler.transform(X_train).astype('float32')\n",
    "X_val_s   = scaler.transform(X_val).astype('float32')\n",
    "X_test_s  = scaler.transform(X_test).astype('float32')\n"
   ]
  },
  {
   "cell_type": "code",
   "execution_count": 13,
   "id": "a2d5fc22",
   "metadata": {},
   "outputs": [],
   "source": [
    "\n",
    "def build_autoencoder(input_dim: int):\n",
    "    inp = keras.Input(shape=(input_dim,))\n",
    "    x = layers.Dense(20, activation='relu')(inp)\n",
    "    x = layers.Dropout(0.1)(x)\n",
    "    x = layers.Dense(14, activation='relu')(x)\n",
    "    latent = layers.Dense(8, activation='relu')(x)\n",
    "    x = layers.Dense(14, activation='relu')(latent)\n",
    "    x = layers.Dense(20, activation='relu')(x)\n",
    "    outp = layers.Dense(input_dim, activation='linear')(x)\n",
    "    model = keras.Model(inp, outp)\n",
    "    model.compile(optimizer=keras.optimizers.Adam(1e-3), loss='mse')\n",
    "    return model\n",
    "\n",
    "ae = build_autoencoder(X_train_s.shape[1])\n",
    "X_train_n = X_train_s[y_train.values==0]; X_val_n = X_val_s[y_val.values==0]\n",
    "es = keras.callbacks.EarlyStopping(monitor='val_loss', patience=5, restore_best_weights=True)\n",
    "_ = ae.fit(X_train_n, X_train_n, validation_data=(X_val_n, X_val_n), epochs=100, batch_size=512, verbose=0, callbacks=[es])\n"
   ]
  },
  {
   "cell_type": "code",
   "execution_count": 14,
   "id": "1ec220e3",
   "metadata": {},
   "outputs": [
    {
     "data": {
      "text/html": [
       "<div>\n",
       "<style scoped>\n",
       "    .dataframe tbody tr th:only-of-type {\n",
       "        vertical-align: middle;\n",
       "    }\n",
       "\n",
       "    .dataframe tbody tr th {\n",
       "        vertical-align: top;\n",
       "    }\n",
       "\n",
       "    .dataframe thead th {\n",
       "        text-align: right;\n",
       "    }\n",
       "</style>\n",
       "<table border=\"1\" class=\"dataframe\">\n",
       "  <thead>\n",
       "    <tr style=\"text-align: right;\">\n",
       "      <th></th>\n",
       "      <th>ROC_AUC</th>\n",
       "      <th>PR_AUC</th>\n",
       "      <th>Precision</th>\n",
       "      <th>Recall</th>\n",
       "      <th>F1</th>\n",
       "      <th>TP</th>\n",
       "      <th>FP</th>\n",
       "      <th>TN</th>\n",
       "      <th>FN</th>\n",
       "      <th>Threshold</th>\n",
       "    </tr>\n",
       "  </thead>\n",
       "  <tbody>\n",
       "    <tr>\n",
       "      <th>0</th>\n",
       "      <td>0.9398</td>\n",
       "      <td>0.4468</td>\n",
       "      <td>0.2715</td>\n",
       "      <td>0.8061</td>\n",
       "      <td>0.4062</td>\n",
       "      <td>79</td>\n",
       "      <td>212</td>\n",
       "      <td>56652</td>\n",
       "      <td>19</td>\n",
       "      <td>3.2347</td>\n",
       "    </tr>\n",
       "  </tbody>\n",
       "</table>\n",
       "</div>"
      ],
      "text/plain": [
       "   ROC_AUC  PR_AUC  Precision  Recall      F1  TP   FP     TN  FN  Threshold\n",
       "0   0.9398  0.4468     0.2715  0.8061  0.4062  79  212  56652  19     3.2347"
      ]
     },
     "execution_count": 14,
     "metadata": {},
     "output_type": "execute_result"
    }
   ],
   "source": [
    "\n",
    "def recon_err(model, X): \n",
    "    recon = model.predict(X, verbose=0)\n",
    "    return ((X - recon)**2).mean(axis=1)\n",
    "\n",
    "val_err = recon_err(ae, X_val_s)\n",
    "import numpy as np\n",
    "best_thr, best_f1 = None, -1\n",
    "for p in np.linspace(80, 99.9, 60):\n",
    "    thr = np.percentile(val_err, p)\n",
    "    y_pred = (val_err >= thr).astype(int)\n",
    "    _, _, f1, _ = precision_recall_fscore_support(y_val, y_pred, average='binary', zero_division=0)\n",
    "    if f1 > best_f1: best_f1, best_thr = f1, thr\n",
    "\n",
    "test_err = recon_err(ae, X_test_s)\n",
    "from sklearn.metrics import roc_auc_score, average_precision_score, precision_recall_fscore_support, confusion_matrix\n",
    "roc_ae = roc_auc_score(y_test, test_err); pr_ae = average_precision_score(y_test, test_err)\n",
    "y_pred = (test_err >= best_thr).astype(int)\n",
    "prec, rec, f1, _ = precision_recall_fscore_support(y_test, y_pred, average='binary', zero_division=0)\n",
    "tn, fp, fn, tp = confusion_matrix(y_test, y_pred).ravel()\n",
    "summary_ae = {'ROC_AUC': roc_ae, 'PR_AUC': pr_ae, 'Precision': prec, 'Recall': rec, 'F1': f1, 'TP': tp, 'FP': fp, 'TN': tn, 'FN': fn, 'Threshold': float(best_thr)}\n",
    "pd.DataFrame([summary_ae]).round(4)\n"
   ]
  },
  {
   "cell_type": "markdown",
   "id": "60acad06",
   "metadata": {},
   "source": [
    "### 📈 Autoencoder – resultat på testdata\n",
    "\n",
    "| Mått        | Resultat |\n",
    "|-------------|----------|\n",
    "| **ROC-AUC** | 0.94     |\n",
    "| **PR-AUC**  | 0.45     |\n",
    "| **Precision** | 0.27   |\n",
    "| **Recall**  | 0.81     |\n",
    "| **F1-score** | 0.41    |\n",
    "| **Tröskel (rekonstruktionsfel)** | 3.23 |\n",
    "\n",
    "**Konfusionsmatris (på testdata):**\n",
    "- **TP (True Positives):** 79 (korrekt identifierade frauds)  \n",
    "- **FP (False Positives):** 212 (felaktigt flaggade legitima transaktioner)  \n",
    "- **TN (True Negatives):** 56 652 (korrekt klassade legitima transaktioner)  \n",
    "- **FN (False Negatives):** 19 (missade frauds)  \n",
    "\n",
    "---\n",
    "\n",
    "🔎 **Tolkning:**\n",
    "- Autoencodern hittar **~81 % av alla frauds (hög recall)**, vilket är bra för ett säkerhetssystem.  \n",
    "- Precisionen är lägre (**~27 %**) → dvs. många legitima transaktioner flaggas som misstänkta.  \n",
    "- Detta är dock ofta acceptabelt i fraud-detektion: det är bättre att manuellt granska några extra transaktioner än att missa riktiga bedrägerier.  \n",
    "\n",
    "💡 Slutsats: Autoencodern fungerar bra för att upptäcka bedrägerier, men kan leda till fler falsklarm.\n"
   ]
  },
  {
   "cell_type": "code",
   "execution_count": 15,
   "id": "d836d74d",
   "metadata": {},
   "outputs": [
    {
     "data": {
      "image/png": "[encoded data removed]",
      "text/plain": [
       "<Figure size 640x480 with 1 Axes>"
      ]
     },
     "metadata": {},
     "output_type": "display_data"
    },
    {
     "data": {
      "image/png": "[encoded data removed]",
      "text/plain": [
       "<Figure size 640x480 with 1 Axes>"
      ]
     },
     "metadata": {},
     "output_type": "display_data"
    }
   ],
   "source": [
    "\n",
    "# ROC curve\n",
    "fpr, tpr, _ = roc_curve(y_test, test_err)\n",
    "plt.figure(); plt.plot(fpr, tpr); plt.title(f'Autoencoder ROC (AUC={roc_ae:.3f})'); plt.xlabel('FPR'); plt.ylabel('TPR'); plt.show()\n",
    "\n",
    "# PR curve\n",
    "prec_c, rec_c, _ = precision_recall_curve(y_test, test_err)\n",
    "plt.figure(); plt.plot(rec_c, prec_c); plt.title(f'Autoencoder PR (AP={pr_ae:.3f})'); plt.xlabel('Recall'); plt.ylabel('Precision'); plt.show()\n"
   ]
  },
  {
   "cell_type": "markdown",
   "id": "831467d3",
   "metadata": {},
   "source": [
    "### 📉 Autoencoder – ROC- och PR-kurvor\n",
    "\n",
    "**ROC-kurva (AUC = 0.94)**  \n",
    "- Den höga arean under kurvan visar att modellen har stark diskrimineringsförmåga.  \n",
    "- Det betyder att autoencodern i de flesta fall kan skilja mellan legitima transaktioner och fraud.  \n",
    "- Ju närmare kurvan ligger övre vänstra hörnet, desto bättre.  \n",
    "\n",
    "**PR-kurva (AP = 0.45)**  \n",
    "- PR-kurvan är mer rättvisande vid obalanserade dataset.  \n",
    "- Här ser vi att modellen har relativt god förmåga att kombinera **hög recall** (många fraud upptäcks) med måttlig **precision** (en del falsklarm förekommer).  \n",
    "- Att AP ≈ 0.45 är mycket bättre än en slumpmodell (~0.0017, dvs andelen fraud i datan).  \n",
    "\n",
    "---\n",
    "\n",
    "💡 **Slutsats:**  \n",
    "Autoencodern fungerar bra för att identifiera avvikande mönster. Den hittar majoriteten av bedrägerierna (hög recall), även om det sker på bekostnad av fler falsklarm. I fraud-detektion är detta ofta önskvärt: det är bättre att flagga några extra legitima transaktioner än att missa riktiga frauds.\n"
   ]
  },
  {
   "cell_type": "code",
   "execution_count": 16,
   "id": "b2a8f5ee",
   "metadata": {},
   "outputs": [
    {
     "data": {
      "text/html": [
       "<div>\n",
       "<style scoped>\n",
       "    .dataframe tbody tr th:only-of-type {\n",
       "        vertical-align: middle;\n",
       "    }\n",
       "\n",
       "    .dataframe tbody tr th {\n",
       "        vertical-align: top;\n",
       "    }\n",
       "\n",
       "    .dataframe thead th {\n",
       "        text-align: right;\n",
       "    }\n",
       "</style>\n",
       "<table border=\"1\" class=\"dataframe\">\n",
       "  <thead>\n",
       "    <tr style=\"text-align: right;\">\n",
       "      <th></th>\n",
       "      <th>ROC_AUC</th>\n",
       "      <th>PR_AUC</th>\n",
       "      <th>Precision</th>\n",
       "      <th>Recall</th>\n",
       "      <th>F1</th>\n",
       "    </tr>\n",
       "  </thead>\n",
       "  <tbody>\n",
       "    <tr>\n",
       "      <th>0</th>\n",
       "      <td>0.983</td>\n",
       "      <td>0.8651</td>\n",
       "      <td>0.7778</td>\n",
       "      <td>0.8571</td>\n",
       "      <td>0.8155</td>\n",
       "    </tr>\n",
       "  </tbody>\n",
       "</table>\n",
       "</div>"
      ],
      "text/plain": [
       "   ROC_AUC  PR_AUC  Precision  Recall      F1\n",
       "0    0.983  0.8651     0.7778  0.8571  0.8155"
      ]
     },
     "execution_count": 16,
     "metadata": {},
     "output_type": "execute_result"
    }
   ],
   "source": [
    "\n",
    "# XGBoost baseline\n",
    "pos = max(1, int((y_train==1).sum())); neg = int((y_train==0).sum()); spw = neg/pos\n",
    "xgb_base = xgb.XGBClassifier(n_estimators=400, max_depth=4, learning_rate=0.05, subsample=0.9, colsample_bytree=0.9, reg_lambda=1.0, random_state=RANDOM_STATE, n_jobs=-1, tree_method='hist', scale_pos_weight=spw, eval_metric='auc')\n",
    "xgb_base.fit(X_train_s, y_train, eval_set=[(X_val_s, y_val)], verbose=False)\n",
    "xgb_scores = xgb_base.predict_proba(X_test_s)[:,1]\n",
    "roc_xgb = roc_auc_score(y_test, xgb_scores); pr_xgb = average_precision_score(y_test, xgb_scores)\n",
    "p_b, r_b, f1_b, _ = precision_recall_fscore_support(y_test, (xgb_scores>=0.5).astype(int), average='binary', zero_division=0)\n",
    "summary_xgb = {'ROC_AUC': roc_xgb, 'PR_AUC': pr_xgb, 'Precision': p_b, 'Recall': r_b, 'F1': f1_b}\n",
    "pd.DataFrame([summary_xgb]).round(4)\n"
   ]
  },
  {
   "cell_type": "markdown",
   "id": "5ab17f5e",
   "metadata": {},
   "source": [
    "### ⚡️ XGBoost – baseline resultat på testdata\n",
    "\n",
    "| Mått        | Resultat |\n",
    "|-------------|----------|\n",
    "| **ROC-AUC** | 0.983    |\n",
    "| **PR-AUC**  | 0.865    |\n",
    "| **Precision** | 0.778  |\n",
    "| **Recall**  | 0.857    |\n",
    "| **F1-score** | 0.816  |\n",
    "\n",
    "---\n",
    "\n",
    "🔎 **Tolkning:**\n",
    "- **Mycket hög ROC-AUC (0.98)** → modellen skiljer nästan perfekt mellan fraud och legitima transaktioner.  \n",
    "- **PR-AUC på 0.87** → modellen klarar av den obalanserade datan mycket väl och presterar långt över slump (0.0017).  \n",
    "- **Precision ~78 %** → 8 av 10 flaggade transaktioner är faktiskt fraud.  \n",
    "- **Recall ~86 %** → modellen hittar de flesta av alla frauds.  \n",
    "- **F1 ~0.82** → en bra balans mellan precision och recall.  \n",
    "\n",
    "💡 **Slutsats:**  \n",
    "XGBoost överträffar autoencodern tydligt och är en mycket stark baseline. Den är både mer träffsäker (precision) och fångar en hög andel frauds (recall).\n"
   ]
  },
  {
   "cell_type": "code",
   "execution_count": 17,
   "id": "8786f396",
   "metadata": {},
   "outputs": [
    {
     "data": {
      "text/html": [
       "<div>\n",
       "<style scoped>\n",
       "    .dataframe tbody tr th:only-of-type {\n",
       "        vertical-align: middle;\n",
       "    }\n",
       "\n",
       "    .dataframe tbody tr th {\n",
       "        vertical-align: top;\n",
       "    }\n",
       "\n",
       "    .dataframe thead th {\n",
       "        text-align: right;\n",
       "    }\n",
       "</style>\n",
       "<table border=\"1\" class=\"dataframe\">\n",
       "  <thead>\n",
       "    <tr style=\"text-align: right;\">\n",
       "      <th></th>\n",
       "      <th>ROC_AUC</th>\n",
       "      <th>PR_AUC</th>\n",
       "      <th>Precision</th>\n",
       "      <th>Recall</th>\n",
       "      <th>F1</th>\n",
       "    </tr>\n",
       "  </thead>\n",
       "  <tbody>\n",
       "    <tr>\n",
       "      <th>0</th>\n",
       "      <td>0.9822</td>\n",
       "      <td>0.8603</td>\n",
       "      <td>0.7568</td>\n",
       "      <td>0.8571</td>\n",
       "      <td>0.8038</td>\n",
       "    </tr>\n",
       "  </tbody>\n",
       "</table>\n",
       "</div>"
      ],
      "text/plain": [
       "   ROC_AUC  PR_AUC  Precision  Recall      F1\n",
       "0   0.9822  0.8603     0.7568  0.8571  0.8038"
      ]
     },
     "execution_count": 17,
     "metadata": {},
     "output_type": "execute_result"
    }
   ],
   "source": [
    "\n",
    "# Hybrid: add AE error as a feature\n",
    "tr_err = recon_err(ae, X_train_s); val_err2 = recon_err(ae, X_val_s); te_err = recon_err(ae, X_test_s)\n",
    "X_train_h = np.column_stack([X_train_s, tr_err])\n",
    "X_val_h   = np.column_stack([X_val_s, val_err2])\n",
    "X_test_h  = np.column_stack([X_test_s, te_err])\n",
    "\n",
    "xgb_h = xgb.XGBClassifier(n_estimators=400, max_depth=4, learning_rate=0.05, subsample=0.9, colsample_bytree=0.9, reg_lambda=1.0, random_state=RANDOM_STATE, n_jobs=-1, tree_method='hist', scale_pos_weight=spw, eval_metric='auc')\n",
    "xgb_h.fit(X_train_h, y_train, eval_set=[(X_val_h, y_val)], verbose=False)\n",
    "xgb_h_scores = xgb_h.predict_proba(X_test_h)[:,1]\n",
    "roc_h = roc_auc_score(y_test, xgb_h_scores); pr_h = average_precision_score(y_test, xgb_h_scores)\n",
    "p_h, r_h, f1_h, _ = precision_recall_fscore_support(y_test, (xgb_h_scores>=0.5).astype(int), average='binary', zero_division=0)\n",
    "summary_h = {'ROC_AUC': roc_h, 'PR_AUC': pr_h, 'Precision': p_h, 'Recall': r_h, 'F1': f1_h}\n",
    "pd.DataFrame([summary_h]).round(4)\n"
   ]
  },
  {
   "cell_type": "markdown",
   "id": "a49ab237",
   "metadata": {},
   "source": [
    "### 🔀 Hybridmodell (XGBoost + Autoencoder feature) – resultat på testdata\n",
    "\n",
    "| Mått        | Resultat |\n",
    "|-------------|----------|\n",
    "| **ROC-AUC** | 0.982    |\n",
    "| **PR-AUC**  | 0.860    |\n",
    "| **Precision** | 0.757  |\n",
    "| **Recall**  | 0.857    |\n",
    "| **F1-score** | 0.804  |\n",
    "\n",
    "---\n",
    "\n",
    "🔎 **Tolkning:**\n",
    "- Hybridmodellen presterar nästan lika bra som ren XGBoost.  \n",
    "- **ROC-AUC (0.982)** och **PR-AUC (0.860)** är i princip samma nivå som XGBoost, vilket betyder att autoencoder-funktionen inte gav någon tydlig förbättring.  \n",
    "- Precision sjunker något (**75.7 % vs. 77.8 %** i baseline), medan recall är oförändrat.  \n",
    "- F1-score blir marginellt lägre (**0.80 vs. 0.82**).  \n",
    "\n",
    "💡 **Slutsats:**  \n",
    "Att kombinera autoencoder-felen med XGBoost gav **ingen tydlig vinst** jämfört med baseline. XGBoost i sig är redan mycket kraftfull och hanterar obalanserade data väldigt bra. Autoencodern kan dock fortfarande vara värdefull i situationer där man saknar etiketter eller vill använda osuperviserat lärande för att upptäcka avvikelser.\n"
   ]
  },
  {
   "cell_type": "code",
   "execution_count": 18,
   "id": "d04cbcb6",
   "metadata": {},
   "outputs": [
    {
     "data": {
      "text/html": [
       "<div>\n",
       "<style scoped>\n",
       "    .dataframe tbody tr th:only-of-type {\n",
       "        vertical-align: middle;\n",
       "    }\n",
       "\n",
       "    .dataframe tbody tr th {\n",
       "        vertical-align: top;\n",
       "    }\n",
       "\n",
       "    .dataframe thead th {\n",
       "        text-align: right;\n",
       "    }\n",
       "</style>\n",
       "<table border=\"1\" class=\"dataframe\">\n",
       "  <thead>\n",
       "    <tr style=\"text-align: right;\">\n",
       "      <th></th>\n",
       "      <th>Model</th>\n",
       "      <th>ROC_AUC</th>\n",
       "      <th>PR_AUC</th>\n",
       "      <th>Precision</th>\n",
       "      <th>Recall</th>\n",
       "      <th>F1</th>\n",
       "    </tr>\n",
       "  </thead>\n",
       "  <tbody>\n",
       "    <tr>\n",
       "      <th>0</th>\n",
       "      <td>Autoencoder</td>\n",
       "      <td>0.9398</td>\n",
       "      <td>0.4468</td>\n",
       "      <td>0.2715</td>\n",
       "      <td>0.8061</td>\n",
       "      <td>0.4062</td>\n",
       "    </tr>\n",
       "    <tr>\n",
       "      <th>1</th>\n",
       "      <td>XGBoost</td>\n",
       "      <td>0.9830</td>\n",
       "      <td>0.8651</td>\n",
       "      <td>0.7778</td>\n",
       "      <td>0.8571</td>\n",
       "      <td>0.8155</td>\n",
       "    </tr>\n",
       "    <tr>\n",
       "      <th>2</th>\n",
       "      <td>Hybrid</td>\n",
       "      <td>0.9822</td>\n",
       "      <td>0.8603</td>\n",
       "      <td>0.7568</td>\n",
       "      <td>0.8571</td>\n",
       "      <td>0.8038</td>\n",
       "    </tr>\n",
       "  </tbody>\n",
       "</table>\n",
       "</div>"
      ],
      "text/plain": [
       "         Model  ROC_AUC  PR_AUC  Precision  Recall      F1\n",
       "0  Autoencoder   0.9398  0.4468     0.2715  0.8061  0.4062\n",
       "1      XGBoost   0.9830  0.8651     0.7778  0.8571  0.8155\n",
       "2       Hybrid   0.9822  0.8603     0.7568  0.8571  0.8038"
      ]
     },
     "execution_count": 18,
     "metadata": {},
     "output_type": "execute_result"
    }
   ],
   "source": [
    "\n",
    "cmp = pd.DataFrame([\n",
    "    {'Model':'Autoencoder', **summary_ae},\n",
    "    {'Model':'XGBoost', **summary_xgb},\n",
    "    {'Model':'Hybrid', **summary_h},\n",
    "])[['Model','ROC_AUC','PR_AUC','Precision','Recall','F1']]\n",
    "cmp.round(4)\n"
   ]
  },
  {
   "cell_type": "markdown",
   "id": "33ab43ed",
   "metadata": {},
   "source": [
    "## 📊 Jämförelse mellan modeller\n",
    "\n",
    "| Modell        | ROC-AUC | PR-AUC | Precision | Recall | F1-score |\n",
    "|---------------|---------|--------|-----------|--------|----------|\n",
    "| **Autoencoder** | 0.940   | 0.447  | 0.272     | 0.806  | 0.406    |\n",
    "| **XGBoost**     | 0.983   | 0.865  | 0.778     | 0.857  | 0.816    |\n",
    "| **Hybrid**      | 0.982   | 0.860  | 0.757     | 0.857  | 0.804    |\n",
    "\n",
    "---\n",
    "\n",
    "### 🔎 Analys\n",
    "- **Autoencoder**  \n",
    "  + Styrka: Hög recall (~81 %) → fångar de flesta frauds.  \n",
    "  + Svaghet: Låg precision (~27 %) → många falsklarm.  \n",
    "  + Passar bra när man saknar etiketter och behöver en osuperviserad metod.  \n",
    "\n",
    "- **XGBoost**  \n",
    "  + Styrka: Mycket hög precision (~78 %) och hög recall (~86 %).  \n",
    "  + Balans mellan precision och recall ger bäst F1-score (~0.82).  \n",
    "  + Den bästa modellen på detta dataset.  \n",
    "\n",
    "- **Hybrid (AE + XGB)**  \n",
    "  + Presterar nästan lika bra som XGBoost.  \n",
    "  + Något sämre precision och F1 än baseline XGBoost.  \n",
    "  + Ingen tydlig förbättring av att lägga till AE-featuren.  \n",
    "\n",
    "---\n",
    "\n",
    "### 💡 Slutsats\n",
    "- **XGBoost är den starkaste modellen** för detta problem och rekommenderas i produktion.  \n",
    "- **Autoencoder** kan användas som komplement för osuperviserad fraud-detektion eller för att upptäcka nya typer av avvikelser.  \n",
    "- **Hybridmodellen** visade att kombinationen inte gav någon förbättring här – men kan vara intressant att utforska på andra dataset.\n"
   ]
  }
 ],
 "metadata": {
  "kernelspec": {
   "display_name": "venv",
   "language": "python",
   "name": "python3"
  },
  "language_info": {
   "codemirror_mode": {
    "name": "ipython",
    "version": 3
   },
   "file_extension": ".py",
   "mimetype": "text/x-python",
   "name": "python",
   "nbconvert_exporter": "python",
   "pygments_lexer": "ipython3",
   "version": "3.13.7"
  }
 },
 "nbformat": 4,
 "nbformat_minor": 5
}
